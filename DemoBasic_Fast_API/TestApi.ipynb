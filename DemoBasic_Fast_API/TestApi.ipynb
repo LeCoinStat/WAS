{
 "cells": [
  {
   "cell_type": "code",
   "execution_count": 1,
   "metadata": {},
   "outputs": [],
   "source": [
    "import requests\n",
    "import pandas as pd"
   ]
  },
  {
   "cell_type": "code",
   "execution_count": 3,
   "metadata": {},
   "outputs": [],
   "source": [
    "\n",
    "# Si vous exécutez l'API localement sur le port par défaut de FastAPI, utilisez ceci:\n",
    "BASE_URL = \"http://127.0.0.1:8000\"\n",
    "\n"
   ]
  },
  {
   "cell_type": "code",
   "execution_count": 4,
   "metadata": {},
   "outputs": [
    {
     "name": "stdout",
     "output_type": "stream",
     "text": [
      "{'message': 'Bienvenue sur notre API de génération de nombres aléatoires!'}\n"
     ]
    }
   ],
   "source": [
    "# Récupérer le message d'accueil\n",
    "response_accueil = requests.get(f\"{BASE_URL}/\")\n",
    "print(response_accueil.json())\n",
    "\n"
   ]
  },
  {
   "cell_type": "code",
   "execution_count": 5,
   "metadata": {},
   "outputs": [
    {
     "name": "stdout",
     "output_type": "stream",
     "text": [
      "   nombre_aleatoire\n",
      "0                37\n"
     ]
    }
   ],
   "source": [
    "# Générer un nombre aléatoire\n",
    "response_nombre = requests.get(f\"{BASE_URL}/nombre_aleatoire/\")\n",
    "df = pd.DataFrame([response_nombre.json()])\n",
    "print(df)"
   ]
  },
  {
   "cell_type": "code",
   "execution_count": 7,
   "metadata": {},
   "outputs": [
    {
     "name": "stdout",
     "output_type": "stream",
     "text": [
      "      detail\n",
      "0  Not Found\n"
     ]
    }
   ],
   "source": [
    "# Générer un nombre aléatoire entre 10 et 50\n",
    "min_val = 10\n",
    "max_val = 50\n",
    "response_nombre_range = requests.get(f\"{BASE_URL}/nombre_aleatoire/{min_val}_{max_val}/\")\n",
    "df_range = pd.DataFrame([response_nombre_range.json()])\n",
    "print(df_range)"
   ]
  },
  {
   "cell_type": "code",
   "execution_count": 8,
   "metadata": {},
   "outputs": [
    {
     "name": "stdout",
     "output_type": "stream",
     "text": [
      " * Serving Flask app '__main__'\n",
      " * Debug mode: on\n"
     ]
    },
    {
     "name": "stderr",
     "output_type": "stream",
     "text": [
      "\u001b[31m\u001b[1mWARNING: This is a development server. Do not use it in a production deployment. Use a production WSGI server instead.\u001b[0m\n",
      " * Running on http://127.0.0.1:5000\n",
      "\u001b[33mPress CTRL+C to quit\u001b[0m\n",
      " * Restarting with stat\n",
      "This version of python seems to be incorrectly compiled\n",
      "(internal generated filenames are not absolute).\n",
      "This may make the debugger miss breakpoints.\n",
      "Related bug: http://bugs.python.org/issue1666807\n",
      "/Users/natachanjongwayepnga/anaconda3/envs/boost/lib/python3.11/site-packages/traitlets/traitlets.py:2548: FutureWarning: Supporting extra quotes around strings is deprecated in traitlets 5.0. You can use 'hmac-sha256' instead of '\"hmac-sha256\"' if you require traitlets >=5.\n",
      "  warn(\n",
      "/Users/natachanjongwayepnga/anaconda3/envs/boost/lib/python3.11/site-packages/traitlets/traitlets.py:2499: FutureWarning: Supporting extra quotes around Bytes is deprecated in traitlets 5.0. Use 'e077023c-ad6d-44d1-9217-b98e1397a266' instead of 'b\"e077023c-ad6d-44d1-9217-b98e1397a266\"'.\n",
      "  warn(\n",
      "Traceback (most recent call last):\n",
      "  File \"<frozen runpy>\", line 198, in _run_module_as_main\n",
      "  File \"<frozen runpy>\", line 88, in _run_code\n",
      "  File \"/Users/natachanjongwayepnga/anaconda3/envs/boost/lib/python3.11/site-packages/ipykernel_launcher.py\", line 17, in <module>\n",
      "    app.launch_new_instance()\n",
      "  File \"/Users/natachanjongwayepnga/anaconda3/envs/boost/lib/python3.11/site-packages/traitlets/config/application.py\", line 1042, in launch_instance\n",
      "    app.initialize(argv)\n",
      "  File \"/Users/natachanjongwayepnga/anaconda3/envs/boost/lib/python3.11/site-packages/traitlets/config/application.py\", line 113, in inner\n",
      "    return method(app, *args, **kwargs)\n",
      "           ^^^^^^^^^^^^^^^^^^^^^^^^^^^^\n",
      "  File \"/Users/natachanjongwayepnga/anaconda3/envs/boost/lib/python3.11/site-packages/ipykernel/kernelapp.py\", line 666, in initialize\n",
      "    self.init_sockets()\n",
      "  File \"/Users/natachanjongwayepnga/anaconda3/envs/boost/lib/python3.11/site-packages/ipykernel/kernelapp.py\", line 307, in init_sockets\n",
      "    self.shell_port = self._bind_socket(self.shell_socket, self.shell_port)\n",
      "                      ^^^^^^^^^^^^^^^^^^^^^^^^^^^^^^^^^^^^^^^^^^^^^^^^^^^^^\n",
      "  File \"/Users/natachanjongwayepnga/anaconda3/envs/boost/lib/python3.11/site-packages/ipykernel/kernelapp.py\", line 244, in _bind_socket\n",
      "    return self._try_bind_socket(s, port)\n",
      "           ^^^^^^^^^^^^^^^^^^^^^^^^^^^^^^\n",
      "  File \"/Users/natachanjongwayepnga/anaconda3/envs/boost/lib/python3.11/site-packages/ipykernel/kernelapp.py\", line 220, in _try_bind_socket\n",
      "    s.bind(\"tcp://%s:%i\" % (self.ip, port))\n",
      "  File \"/Users/natachanjongwayepnga/anaconda3/envs/boost/lib/python3.11/site-packages/zmq/sugar/socket.py\", line 302, in bind\n",
      "    super().bind(addr)\n",
      "  File \"zmq/backend/cython/socket.pyx\", line 564, in zmq.backend.cython.socket.Socket.bind\n",
      "  File \"zmq/backend/cython/checkrc.pxd\", line 28, in zmq.backend.cython.checkrc._check_rc\n",
      "zmq.error.ZMQError: Address already in use (addr='tcp://127.0.0.1:9007')\n"
     ]
    },
    {
     "ename": "SystemExit",
     "evalue": "1",
     "output_type": "error",
     "traceback": [
      "An exception has occurred, use %tb to see the full traceback.\n",
      "\u001b[0;31mSystemExit\u001b[0m\u001b[0;31m:\u001b[0m 1\n"
     ]
    },
    {
     "name": "stderr",
     "output_type": "stream",
     "text": [
      "/Users/natachanjongwayepnga/anaconda3/envs/boost/lib/python3.11/site-packages/IPython/core/interactiveshell.py:3516: UserWarning: To exit: use 'exit', 'quit', or Ctrl-D.\n",
      "  warn(\"To exit: use 'exit', 'quit', or Ctrl-D.\", stacklevel=1)\n"
     ]
    }
   ],
   "source": [
    "from flask import Flask, jsonify\n",
    "import random\n",
    "\n",
    "app = Flask(__name__)\n",
    "\n",
    "@app.route('/')\n",
    "def accueil():\n",
    "    return jsonify({\"message\": \"Bienvenue sur notre API de génération de nombres aléatoires!\"})\n",
    "\n",
    "@app.route('/nombre_aleatoire/')\n",
    "def generer_nombre():\n",
    "    \"\"\" Génère un nombre aléatoire entre 0 et 100. \"\"\"\n",
    "    return jsonify({\"nombre_aleatoire\": random.randint(0, 100)})\n",
    "\n",
    "@app.route('/nombre_aleatoire/<int:min>_<int:max>')\n",
    "def generer_nombre_min_max(min, max):\n",
    "    \"\"\" Génère un nombre aléatoire entre min et max. \"\"\"\n",
    "    return jsonify({\"nombre_aleatoire\": random.randint(min, max)})\n",
    "\n",
    "#if __name__ == '__main__':\n",
    "app.run(debug=True)\n"
   ]
  }
 ],
 "metadata": {
  "kernelspec": {
   "display_name": "Python 3",
   "language": "python",
   "name": "python3"
  },
  "language_info": {
   "codemirror_mode": {
    "name": "ipython",
    "version": 3
   },
   "file_extension": ".py",
   "mimetype": "text/x-python",
   "name": "python",
   "nbconvert_exporter": "python",
   "pygments_lexer": "ipython3",
   "version": "3.11.3"
  },
  "orig_nbformat": 4
 },
 "nbformat": 4,
 "nbformat_minor": 2
}
